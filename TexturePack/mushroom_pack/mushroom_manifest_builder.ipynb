{
 "cells": [
  {
   "cell_type": "markdown",
   "id": "4ed94f89",
   "metadata": {},
   "source": [
    "\n",
    "# Mushroom Manifest Builder\n",
    "\n",
    "This notebook scans a folder (e.g., `TexturePack/mushroom_pack/`) for your generated PNGs\n",
    "(named **`color-stem-cap-value.png`**, like `black-03-0.201-+0.png`), then writes a\n",
    "`manifest.json` into that folder. Your web app will fetch this manifest at runtime.\n",
    "\n",
    "## What it does\n",
    "- Recursively scans for files ending in `.png`.\n",
    "- Validates filenames against the pattern: `([a-z]+)-(\\d+)-(\\d+\\.\\d+)-([+-]?\\d+)\\.png`.\n",
    "- Builds an array of file paths (either basenames or paths relative to the base folder).\n",
    "- Saves `manifest.json` in the base folder.\n",
    "- Prints helpful stats (per-color counts, a few samples).\n",
    "\n",
    "## How to use\n",
    "1. **Edit** the `BASE_DIR` below to the absolute path of your folder on *your* machine,\n",
    "   e.g. `r\"/Users/you/Project/TexturePack/mushroom_pack\"`.\n",
    "2. Run each cell top-to-bottom.\n",
    "3. Confirm the printed stats look right.\n",
    "4. Check that `manifest.json` exists under `BASE_DIR`.\n",
    "5. In your webpage, it will be at: `TexturePack/mushroom_pack/manifest.json` (or the\n",
    "   path you serve).\n",
    "\n",
    "> Tip: If your JS expects basenames only, set `WRITE_BASENAMES = True`. If you prefer\n",
    "> manifest entries to include the folder path, set it to `False` to write paths **relative**\n",
    "> to `BASE_DIR`.\n"
   ]
  },
  {
   "cell_type": "code",
   "execution_count": 7,
   "id": "f3f0ba87",
   "metadata": {},
   "outputs": [
    {
     "name": "stdout",
     "output_type": "stream",
     "text": [
      "✓ Using BASE_DIR: /Users/jianleguo/Documents/GitHub/vmps_mario/TexturePack/mushroom_pack\n",
      "Manifest will contain basenames only: True\n"
     ]
    }
   ],
   "source": [
    "# === Use your exact local folder for scanning (only used to FIND files) ===\n",
    "BASE_DIR = r\"/Users/jianleguo/Documents/GitHub/vmps_mario/TexturePack/mushroom_pack\"\n",
    "\n",
    "# Write only filenames like \"black-03-0.201-+0.png\" (no paths in manifest)\n",
    "WRITE_BASENAMES = True\n",
    "\n",
    "# Name of the output manifest placed INSIDE BASE_DIR\n",
    "MANIFEST_NAME = \"manifest.json\"\n",
    "\n",
    "import os\n",
    "assert os.path.isdir(BASE_DIR), f\"BASE_DIR does not exist: {BASE_DIR}\"\n",
    "print(\"✓ Using BASE_DIR:\", BASE_DIR)\n",
    "print(\"Manifest will contain basenames only:\", WRITE_BASENAMES)\n"
   ]
  },
  {
   "cell_type": "code",
   "execution_count": 8,
   "id": "a759b4c2",
   "metadata": {},
   "outputs": [],
   "source": [
    "\n",
    "import os, re, json\n",
    "from collections import Counter\n",
    "\n",
    "pattern = re.compile(r\"^([a-z]+)-(\\d+)-(\\d+\\.\\d+)-([+-]?\\d+)\\.png$\", re.I)\n",
    "\n",
    "def basename(p: str) -> str:\n",
    "    return os.path.basename(p)\n",
    "\n",
    "def is_valid_name(name: str) -> bool:\n",
    "    return pattern.match(name) is not None\n",
    "\n",
    "def scan_pngs(base_dir: str, write_basenames: bool = True):\n",
    "    found = []\n",
    "    invalid = []\n",
    "    for root, _, files in os.walk(base_dir):\n",
    "        for f in files:\n",
    "            if not f.lower().endswith(\".png\"):\n",
    "                continue\n",
    "            if is_valid_name(f):\n",
    "                if write_basenames:\n",
    "                    found.append(f)\n",
    "                else:\n",
    "                    # path relative to base_dir\n",
    "                    rel = os.path.relpath(os.path.join(root, f), base_dir)\n",
    "                    found.append(rel.replace(\"\\\\\", \"/\"))\n",
    "            else:\n",
    "                invalid.append(f)\n",
    "    return found, invalid\n",
    "\n",
    "def color_from_name(name: str) -> str:\n",
    "    m = pattern.match(name)\n",
    "    return m.group(1).lower() if m else \"invalid\"\n"
   ]
  },
  {
   "cell_type": "code",
   "execution_count": 9,
   "id": "931a1544",
   "metadata": {},
   "outputs": [
    {
     "name": "stdout",
     "output_type": "stream",
     "text": [
      "Scanned folder: /Users/jianleguo/Documents/GitHub/vmps_mario/TexturePack/mushroom_pack\n",
      "Valid PNGs found: 3200\n",
      "Invalid (skipped): 0\n",
      "\n",
      "Counts by color: {'magenta': 400, 'green': 400, 'yellow': 400, 'white': 400, 'red': 400, 'cyan': 400, 'blue': 400, 'black': 400}\n",
      "\n",
      "Sample entries: ['magenta-14-0.982--5.png', 'green-03-0.207-+7.png', 'yellow-05-0.498-+19.png', 'white-10-1.886-+2.png', 'yellow-14-0.688-+9.png', 'green-03-0.307-+7.png', 'yellow-06-0.327-+15.png', 'green-08-1.027-+1.png', 'red-03-0.217-+1.png', 'white-05-1.422--2.png']\n",
      "\n",
      "Wrote manifest with 3200 entries -> /Users/jianleguo/Documents/GitHub/vmps_mario/TexturePack/mushroom_pack/manifest.json\n"
     ]
    }
   ],
   "source": [
    "\n",
    "# --- Scan ---\n",
    "assert os.path.isdir(BASE_DIR), f\"BASE_DIR does not exist: {BASE_DIR}\"\n",
    "found, invalid = scan_pngs(BASE_DIR, write_basenames=WRITE_BASENAMES)\n",
    "\n",
    "print(f\"Scanned folder: {BASE_DIR}\")\n",
    "print(f\"Valid PNGs found: {len(found)}\")\n",
    "print(f\"Invalid (skipped): {len(invalid)}\")\n",
    "if invalid:\n",
    "    print(\"Some invalid samples:\", invalid[:10])\n",
    "\n",
    "# --- Stats ---\n",
    "by_color = Counter(color_from_name(os.path.basename(x)) for x in found)\n",
    "print(\"\\nCounts by color:\", dict(by_color))\n",
    "\n",
    "print(\"\\nSample entries:\", found[:10])\n",
    "\n",
    "# --- Save manifest ---\n",
    "manifest_path = os.path.join(BASE_DIR, MANIFEST_NAME)\n",
    "with open(manifest_path, \"w\", encoding=\"utf-8\") as f:\n",
    "    json.dump(found, f, ensure_ascii=False, indent=2)\n",
    "\n",
    "print(f'\\nWrote manifest with {len(found)} entries -> {manifest_path}')\n"
   ]
  },
  {
   "cell_type": "code",
   "execution_count": 10,
   "id": "21befc7a",
   "metadata": {},
   "outputs": [
    {
     "name": "stdout",
     "output_type": "stream",
     "text": [
      "Re-loaded 3200 entries from manifest.\n",
      "Invalid names in manifest (should be 0): 0\n"
     ]
    }
   ],
   "source": [
    "\n",
    "# Re-open and validate the just-written manifest\n",
    "manifest_path = os.path.join(BASE_DIR, MANIFEST_NAME)\n",
    "with open(manifest_path, \"r\", encoding=\"utf-8\") as f:\n",
    "    data = json.load(f)\n",
    "\n",
    "assert isinstance(data, list), \"Manifest JSON must be an array.\"\n",
    "bad = [x for x in data if not is_valid_name(os.path.basename(x))]\n",
    "print(f\"Re-loaded {len(data)} entries from manifest.\")\n",
    "print(\"Invalid names in manifest (should be 0):\", len(bad))\n",
    "if bad:\n",
    "    print(bad[:10])\n"
   ]
  }
 ],
 "metadata": {
  "kernelspec": {
   "display_name": "3.8.18",
   "language": "python",
   "name": "python3"
  },
  "language_info": {
   "codemirror_mode": {
    "name": "ipython",
    "version": 3
   },
   "file_extension": ".py",
   "mimetype": "text/x-python",
   "name": "python",
   "nbconvert_exporter": "python",
   "pygments_lexer": "ipython3",
   "version": "3.8.18"
  }
 },
 "nbformat": 4,
 "nbformat_minor": 5
}
